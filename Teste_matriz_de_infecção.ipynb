{
  "nbformat": 4,
  "nbformat_minor": 0,
  "metadata": {
    "colab": {
      "provenance": [],
      "authorship_tag": "ABX9TyNtMcNT9rULWSmBDbWb5oSd",
      "include_colab_link": true
    },
    "kernelspec": {
      "name": "python3",
      "display_name": "Python 3"
    },
    "language_info": {
      "name": "python"
    }
  },
  "cells": [
    {
      "cell_type": "markdown",
      "metadata": {
        "id": "view-in-github",
        "colab_type": "text"
      },
      "source": [
        "<a href=\"https://colab.research.google.com/github/alminha021/DS-rcf/blob/main/Teste_matriz_de_infec%C3%A7%C3%A3o.ipynb\" target=\"_parent\"><img src=\"https://colab.research.google.com/assets/colab-badge.svg\" alt=\"Open In Colab\"/></a>"
      ]
    },
    {
      "cell_type": "code",
      "execution_count": null,
      "metadata": {
        "colab": {
          "base_uri": "https://localhost:8080/"
        },
        "id": "Zw_otgB8eutT",
        "outputId": "721e2059-2b0f-483f-f1e9-278c403de330"
      },
      "outputs": [
        {
          "output_type": "stream",
          "name": "stdout",
          "text": [
            "[[['vivo', 0, 0], ['vivo', 0, 0], ['vivo', 0, 0]], [['vivo', 0, 0], ['vivo', 0, 0], ['vivo', 0, 0]], [['vivo', 0, 0], ['vivo', 0, 0], ['vivo', 0, 0]]]\n"
          ]
        }
      ],
      "source": [
        "def criar_matriz(linhas, colunas):\n",
        "    none = ['vivo',0,0]\n",
        "    matriz = []\n",
        "    for _ in range(linhas):\n",
        "        linha = []\n",
        "        for _ in range(colunas):\n",
        "            linha.append(none)  # ou qualquer valor inicial desejado\n",
        "        matriz.append(linha)\n",
        "    return matriz\n",
        "\n",
        "# Exemplo de uso:\n",
        "matriz = criar_matriz(3, 3)\n",
        "print(matriz)\n"
      ]
    },
    {
      "cell_type": "code",
      "source": [
        "import random\n",
        "\n",
        "def criar_matriz(linhas, colunas):\n",
        "    matriz = []\n",
        "    for _ in range(linhas):\n",
        "        linha = []\n",
        "        for _ in range(colunas):\n",
        "            linha.append('.')\n",
        "        matriz.append(linha)\n",
        "    return matriz\n",
        "\n",
        "def imprimir_matriz(matriz):\n",
        "    for linha in matriz:\n",
        "        print(' '.join(linha))\n",
        "\n",
        "def mover_jogador(matriz, direcao):\n",
        "    linhas = len(matriz)\n",
        "    colunas = len(matriz[0])\n",
        "\n",
        "    # Encontrar a posição do jogador\n",
        "    for i in range(linhas):\n",
        "        for j in range(colunas):\n",
        "            if matriz[i][j] == 'X':\n",
        "                # Movendo o jogador na direção desejada\n",
        "                if direcao == 'cima' and i > 0:\n",
        "                    matriz[i][j], matriz[i - 1][j] = matriz[i - 1][j], matriz[i][j]\n",
        "                    return i - 1, j\n",
        "                elif direcao == 'cima' and i == 0:\n",
        "                    matriz[i][j], matriz[linhas-1][j] = matriz[linhas -1][j], matriz[i][j]\n",
        "                    return linhas - 1, j\n",
        "                 # Movendo baixo\n",
        "                elif direcao == 'baixo' and i < linhas - 1:\n",
        "                    matriz[i][j], matriz[i + 1][j] = matriz[i + 1][j], matriz[i][j]\n",
        "                    return i+1, j\n",
        "                elif direcao == 'baixo' and i == linhas - 1:\n",
        "                    matriz[i][j], matriz[0][j] = matriz[0][j], matriz[i][j]\n",
        "                    return 0, j\n",
        "                 # Movendo o esquerda\n",
        "                elif direcao == 'esquerda' and j > 0:\n",
        "                    matriz[i][j], matriz[i][j - 1] = matriz[i][j - 1], matriz[i][j]\n",
        "                    return i, j-1\n",
        "                elif direcao == 'esquerda' and j == 0:\n",
        "                    matriz[i][j], matriz[i][colunas - 1] = matriz[i][colunas -1], matriz[i][j]\n",
        "                    return i , colunas -1\n",
        "                 # Movendo para direita\n",
        "                elif direcao == 'direita' and j < colunas - 1:\n",
        "                    matriz[i][j], matriz[i][j + 1] = matriz[i][j + 1], matriz[i][j]\n",
        "                    return i, j+1\n",
        "                elif direcao == 'direita' and j == colunas - 1:\n",
        "                    matriz[i][j], matriz[i][0] = matriz[i][0], matriz[i][j]\n",
        "                    return i , 0\n",
        "\n",
        "\n",
        "\n",
        "def transformar_vizinhos(matriz, i, j):\n",
        "    linhas = len(matriz)\n",
        "    colunas = len(matriz[0])\n",
        "\n",
        "    for dx, dy in [(0, 1), (0, -1), (1, 0), (-1, 0)]:\n",
        "        ni, nj = i + dx, j + dy\n",
        "        if 0 <= ni < linhas and 0 <= nj < colunas:\n",
        "            if matriz[ni][nj] == 'Y':\n",
        "                    matriz[ni][nj] = 'Z'\n",
        "            elif matriz[ni][nj] == '.':\n",
        "                    matriz[ni][nj] = 'Y'\n",
        "\n",
        "\n",
        "# Criar matriz\n",
        "matriz = criar_matriz(5, 5)\n",
        "# Colocar o jogador em uma posição inicial aleatória\n",
        "posicao_inicial = (random.randint(0, 4), random.randint(0, 4))\n",
        "matriz[posicao_inicial[0]][posicao_inicial[1]] = 'X'\n",
        "\n",
        "# Loop principal do jogo\n",
        "while True:\n",
        "    imprimir_matriz(matriz)\n",
        "    direcao = input(\"Para onde deseja mover? (cima, baixo, esquerda, direita): \").lower()\n",
        "    if direcao in ['cima', 'baixo', 'esquerda', 'direita']:\n",
        "         i, j = mover_jogador(matriz, direcao)\n",
        "         transformar_vizinhos(matriz, i, j)\n",
        "    elif direcao in['sair']:\n",
        "        break\n",
        "    else:\n",
        "        print(\"Direção inválida! Por favor, escolha entre cima, baixo, esquerda ou direita.\")\n"
      ],
      "metadata": {
        "colab": {
          "base_uri": "https://localhost:8080/"
        },
        "id": "nLb_3EtDfEyI",
        "outputId": "bc155834-171a-498d-ec4b-92555db9595e"
      },
      "execution_count": 4,
      "outputs": [
        {
          "name": "stdout",
          "output_type": "stream",
          "text": [
            ". . . . .\n",
            ". . . . .\n",
            ". . . . .\n",
            ". . . . .\n",
            ". . X . .\n",
            "Para onde deseja mover? (cima, baixo, esquerda, direita): baixo\n",
            ". Y X Y .\n",
            ". . Y . .\n",
            ". . . . .\n",
            ". . . . .\n",
            ". . . . .\n",
            "Para onde deseja mover? (cima, baixo, esquerda, direita): direita\n",
            ". Y Y2 X Y\n",
            ". . Y Y .\n",
            ". . . . .\n",
            ". . . . .\n",
            ". . . . .\n",
            "Para onde deseja mover? (cima, baixo, esquerda, direita): baixo\n",
            ". Y Y2 Y2 Y\n",
            ". . Y2 X Y\n",
            ". . . Y .\n",
            ". . . . .\n",
            ". . . . .\n",
            "Para onde deseja mover? (cima, baixo, esquerda, direita): baixo\n",
            ". Y Y2 Y2 Y\n",
            ". . Y2 Y2 Y\n",
            ". . Y X Y\n",
            ". . . Y .\n",
            ". . . . .\n",
            "Para onde deseja mover? (cima, baixo, esquerda, direita): sair\n"
          ]
        }
      ]
    }
  ]
}