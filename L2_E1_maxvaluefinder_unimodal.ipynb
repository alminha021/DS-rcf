{
  "nbformat": 4,
  "nbformat_minor": 0,
  "metadata": {
    "colab": {
      "provenance": [],
      "authorship_tag": "ABX9TyOBcWlTFNQI/TWiGv/I/T1Y",
      "include_colab_link": true
    },
    "kernelspec": {
      "name": "python3",
      "display_name": "Python 3"
    },
    "language_info": {
      "name": "python"
    }
  },
  "cells": [
    {
      "cell_type": "markdown",
      "metadata": {
        "id": "view-in-github",
        "colab_type": "text"
      },
      "source": [
        "<a href=\"https://colab.research.google.com/github/alminha021/DS-rcf/blob/main/L2_E1_maxvaluefinder_unimodal.ipynb\" target=\"_parent\"><img src=\"https://colab.research.google.com/assets/colab-badge.svg\" alt=\"Open In Colab\"/></a>"
      ]
    },
    {
      "cell_type": "code",
      "execution_count": 14,
      "metadata": {
        "colab": {
          "base_uri": "https://localhost:8080/"
        },
        "id": "T1vSft-RHcQH",
        "outputId": "c5f96256-89c4-48e5-8e6e-c671bcb747f2"
      },
      "outputs": [
        {
          "output_type": "stream",
          "name": "stdout",
          "text": [
            "[4, 14, 21, 24, 25, 32, 36, 38, 51, 50, 47, 40]\n",
            "m1 =  51\n",
            "m2 =  51\n"
          ]
        }
      ],
      "source": [
        "import random\n",
        "\n",
        "def maior1(vetor):\n",
        "    pos = 0\n",
        "    while (vetor[pos+1] > vetor[pos]) :\n",
        "        pos = pos + 1\n",
        "    return vetor[pos]\n",
        "\n",
        "def maior2(vetor, i, f):\n",
        "    if i == f:\n",
        "        return vetor[i]\n",
        "\n",
        "    mid = (i + f) // 2\n",
        "    if vetor[mid] < vetor[mid + 1]:\n",
        "        return maior2(vetor, mid + 1, f)\n",
        "    else:\n",
        "        return maior2(vetor, i, mid)\n",
        "\n",
        "def criaVetorUnimodal (n):\n",
        "    vetor = [0 for x in range(n)]\n",
        "    vetor[0] = random.randint(0,9)\n",
        "    for i in range(1, n, 1):\n",
        "        vetor[i] = vetor[i-1] + random.randint(0,9) + 1\n",
        "    a = random.randint(1,n-2)\n",
        "    b = n-1\n",
        "    while (a < b):\n",
        "        vetor[a], vetor[b] = vetor[b], vetor[a]\n",
        "        a = a+1\n",
        "        b = b-1\n",
        "    return vetor\n",
        "\n",
        "A = criaVetorUnimodal(12)\n",
        "print(A)\n",
        "m1 = maior1(A)\n",
        "print('m1 = ',m1)\n",
        "m2 = maior2(A, 0, 11)\n",
        "print('m2 = ',m2)"
      ]
    }
  ]
}