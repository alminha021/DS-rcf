{
  "nbformat": 4,
  "nbformat_minor": 0,
  "metadata": {
    "colab": {
      "provenance": [],
      "authorship_tag": "ABX9TyPPjtJkamxB1aIuNK6oRpcF",
      "include_colab_link": true
    },
    "kernelspec": {
      "name": "python3",
      "display_name": "Python 3"
    },
    "language_info": {
      "name": "python"
    }
  },
  "cells": [
    {
      "cell_type": "markdown",
      "metadata": {
        "id": "view-in-github",
        "colab_type": "text"
      },
      "source": [
        "<a href=\"https://colab.research.google.com/github/alminha021/DS-rcf/blob/main/media_mediana_moda_RCF.ipynb\" target=\"_parent\"><img src=\"https://colab.research.google.com/assets/colab-badge.svg\" alt=\"Open In Colab\"/></a>"
      ]
    },
    {
      "cell_type": "code",
      "source": [
        "import pandas as pd"
      ],
      "metadata": {
        "id": "c63K3q5gUnLB"
      },
      "execution_count": 26,
      "outputs": []
    },
    {
      "cell_type": "markdown",
      "source": [
        "alocando o dados de exemplo e aplicando o map() para transformar em float todos os valores da lista"
      ],
      "metadata": {
        "id": "VU7dCyqAZ3eC"
      }
    },
    {
      "cell_type": "code",
      "execution_count": 21,
      "metadata": {
        "id": "1bNuHDlD_s39"
      },
      "outputs": [],
      "source": [
        "ai = [62000,64000,49000,324000,1264000,54330,64000,51000,55000,48000,53000]\n",
        "ds = list(map(float,ai))\n",
        "\n"
      ]
    },
    {
      "cell_type": "code",
      "source": [
        "ai"
      ],
      "metadata": {
        "colab": {
          "base_uri": "https://localhost:8080/"
        },
        "id": "0ONaYYVwAjGe",
        "outputId": "73916f41-3d0e-4924-dae7-0c29586e72fa"
      },
      "execution_count": 17,
      "outputs": [
        {
          "output_type": "execute_result",
          "data": {
            "text/plain": [
              "[62000,\n",
              " 64000,\n",
              " 49000,\n",
              " 324000,\n",
              " 1264000,\n",
              " 54330,\n",
              " 64000,\n",
              " 51000,\n",
              " 55000,\n",
              " 48000,\n",
              " 53000]"
            ]
          },
          "metadata": {},
          "execution_count": 17
        }
      ]
    },
    {
      "cell_type": "code",
      "source": [
        "ds\n"
      ],
      "metadata": {
        "colab": {
          "base_uri": "https://localhost:8080/"
        },
        "id": "HzIwdOYbUbUf",
        "outputId": "ce218df7-a2bc-471a-fec0-366b5d399f33"
      },
      "execution_count": 23,
      "outputs": [
        {
          "output_type": "execute_result",
          "data": {
            "text/plain": [
              "[62000.0,\n",
              " 64000.0,\n",
              " 49000.0,\n",
              " 324000.0,\n",
              " 1264000.0,\n",
              " 54330.0,\n",
              " 64000.0,\n",
              " 51000.0,\n",
              " 55000.0,\n",
              " 48000.0,\n",
              " 53000.0]"
            ]
          },
          "metadata": {},
          "execution_count": 23
        }
      ]
    },
    {
      "cell_type": "markdown",
      "source": [
        "transformando a lista de floats em um dataframe do pandas"
      ],
      "metadata": {
        "id": "A2OZtLBRaEpT"
      }
    },
    {
      "cell_type": "code",
      "source": [
        "df = pd.DataFrame(ds)\n",
        "print(df)"
      ],
      "metadata": {
        "colab": {
          "base_uri": "https://localhost:8080/"
        },
        "id": "MLbR_ahDUqIl",
        "outputId": "79fb29cf-e52f-47b7-bb9b-de7f27fe3c1b"
      },
      "execution_count": 29,
      "outputs": [
        {
          "output_type": "stream",
          "name": "stdout",
          "text": [
            "            0\n",
            "0     62000.0\n",
            "1     64000.0\n",
            "2     49000.0\n",
            "3    324000.0\n",
            "4   1264000.0\n",
            "5     54330.0\n",
            "6     64000.0\n",
            "7     51000.0\n",
            "8     55000.0\n",
            "9     48000.0\n",
            "10    53000.0\n"
          ]
        }
      ]
    },
    {
      "cell_type": "markdown",
      "source": [
        "aplicando o mean() para a media, mode() para a moda e a median() para retornar a mediana do dataframe df q contem os dados"
      ],
      "metadata": {
        "id": "8UmW8Q3iaNAn"
      }
    },
    {
      "cell_type": "code",
      "source": [
        "media = df[0].mean()\n",
        "print('media =', media)"
      ],
      "metadata": {
        "colab": {
          "base_uri": "https://localhost:8080/"
        },
        "id": "pOs4fbEPW5ry",
        "outputId": "13a664b8-7615-43b0-9303-baabcd4264ac"
      },
      "execution_count": 64,
      "outputs": [
        {
          "output_type": "stream",
          "name": "stdout",
          "text": [
            "media = 189848.18181818182\n"
          ]
        }
      ]
    },
    {
      "cell_type": "code",
      "source": [
        "modas = df[0].mode()\n",
        "print('moda =', modas[0])"
      ],
      "metadata": {
        "colab": {
          "base_uri": "https://localhost:8080/"
        },
        "id": "21lEPp3eW_qi",
        "outputId": "536b01f5-900a-4c16-a6b5-0aeac644ea1a"
      },
      "execution_count": 66,
      "outputs": [
        {
          "output_type": "stream",
          "name": "stdout",
          "text": [
            "moda = 64000.0\n"
          ]
        }
      ]
    },
    {
      "cell_type": "code",
      "source": [
        "media =df[0].median()\n",
        "print('media = ', media)"
      ],
      "metadata": {
        "colab": {
          "base_uri": "https://localhost:8080/"
        },
        "id": "HFyAZO_MXFSj",
        "outputId": "794266af-3f8f-4317-fabb-f1e293b89d39"
      },
      "execution_count": 65,
      "outputs": [
        {
          "output_type": "stream",
          "name": "stdout",
          "text": [
            "media =  55000.0\n"
          ]
        }
      ]
    }
  ]
}