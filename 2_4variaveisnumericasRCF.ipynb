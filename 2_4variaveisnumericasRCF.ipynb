{
  "nbformat": 4,
  "nbformat_minor": 0,
  "metadata": {
    "colab": {
      "provenance": [],
      "authorship_tag": "ABX9TyM+jAFb6lYx+o2C157O9iTD",
      "include_colab_link": true
    },
    "kernelspec": {
      "name": "python3",
      "display_name": "Python 3"
    },
    "language_info": {
      "name": "python"
    }
  },
  "cells": [
    {
      "cell_type": "markdown",
      "metadata": {
        "id": "view-in-github",
        "colab_type": "text"
      },
      "source": [
        "<a href=\"https://colab.research.google.com/github/alminha021/DS-rcf/blob/main/2_4variaveisnumericasRCF.ipynb\" target=\"_parent\"><img src=\"https://colab.research.google.com/assets/colab-badge.svg\" alt=\"Open In Colab\"/></a>"
      ]
    },
    {
      "cell_type": "markdown",
      "source": [
        "Exercicio 2.4 - Raul Costa Feitosa"
      ],
      "metadata": {
        "id": "A3uFwAMU4Y3h"
      }
    },
    {
      "cell_type": "markdown",
      "source": [
        "# **Exercicio de distribuição de frequencia**\n"
      ],
      "metadata": {
        "id": "Hq7vxpqMdkXe"
      }
    },
    {
      "cell_type": "markdown",
      "source": [
        "imports"
      ],
      "metadata": {
        "id": "KwS91csv4oVR"
      }
    },
    {
      "cell_type": "code",
      "source": [
        "#imports\n",
        "import math\n",
        "import matplotlib.pyplot as plt\n",
        "import numpy as np\n",
        "from tabulate import tabulate\n",
        "import pandas as pd"
      ],
      "metadata": {
        "id": "4n7x-5UOjoX1"
      },
      "execution_count": null,
      "outputs": []
    },
    {
      "cell_type": "markdown",
      "source": [
        "*Calculo do valor do intervalo*"
      ],
      "metadata": {
        "id": "u3jwhOaKkER0"
      }
    },
    {
      "cell_type": "code",
      "source": [
        "def calcinterval(dados,quantidade_intervalos):\n",
        "    maximo = max(dados)\n",
        "    minimo = min(dados)\n",
        "    intervalo = (maximo - minimo)/quantidade_intervalos\n",
        "    return intervalo\n",
        "\n",
        "dataset=[8,30,30,54,86,94,102,110,169,170,176,236,240,241,242,255,262,276,279,282]\n",
        "numero_intervalos = 6\n",
        "\n",
        "tamanho_intervalo = calcinterval(dataset,numero_intervalos)\n",
        "print(\"tamanho intervalo = \",tamanho_intervalo)"
      ],
      "metadata": {
        "colab": {
          "base_uri": "https://localhost:8080/"
        },
        "id": "Lop_Z_gIkA4l",
        "outputId": "5748e50f-117e-4048-b11b-a924d61424ae"
      },
      "execution_count": null,
      "outputs": [
        {
          "output_type": "stream",
          "name": "stdout",
          "text": [
            "tamanho intervalo =  45.666666666666664\n"
          ]
        }
      ]
    },
    {
      "cell_type": "markdown",
      "source": [
        "* Arredondamento do valor do intervalo*"
      ],
      "metadata": {
        "id": "-3LDjurpkH5S"
      }
    },
    {
      "cell_type": "code",
      "source": [
        "intervalo_corrigido = math.ceil(tamanho_intervalo)\n",
        "print(intervalo_corrigido)"
      ],
      "metadata": {
        "colab": {
          "base_uri": "https://localhost:8080/"
        },
        "id": "uvCLIZnEj8w9",
        "outputId": "aa934546-0f05-4e6c-a7ae-ae336b91d770"
      },
      "execution_count": null,
      "outputs": [
        {
          "output_type": "stream",
          "name": "stdout",
          "text": [
            "46\n"
          ]
        }
      ]
    },
    {
      "cell_type": "markdown",
      "source": [
        "# Funçao que retorna os intervalos e a quantidade de valores dentro de cada intervalo."
      ],
      "metadata": {
        "id": "JQbRBAI31xZo"
      }
    },
    {
      "cell_type": "code",
      "source": [
        "def contador_frequencia(dados,valor_intervalo):\n",
        "    resultado = []\n",
        "    count_resultado = []\n",
        "    minimo = min(dados)\n",
        "    for x in range(0,6):\n",
        "        minimo_novo = minimo+valor_intervalo*x\n",
        "        maximo_novo = minimo+valor_intervalo*(x+1)\n",
        "        #print(\"mininimo\",minimo_novo)\n",
        "        #print(\"maximo\",maximo_novo)\n",
        "        subinterval = []\n",
        "        ponto = 0\n",
        "        for j in range(len(dados)):\n",
        "            if maximo_novo > dados[j] >= minimo_novo:\n",
        "                #print(dados[j], \"somou\")\n",
        "                ponto += 1\n",
        "                subinterval.append(dados[j])\n",
        "        count_resultado.append(ponto)\n",
        "        resultado.append(subinterval)\n",
        "    return resultado,count_resultado\n"
      ],
      "metadata": {
        "id": "KjVvA5InlQOc"
      },
      "execution_count": null,
      "outputs": []
    },
    {
      "cell_type": "markdown",
      "source": [
        "Retorno da função (intervalos e quantidade de numero de cada intervalo) quando o valor é arredondado\n",
        "\n",
        "---\n",
        "\n"
      ],
      "metadata": {
        "id": "JZpogVfU2ar4"
      }
    },
    {
      "cell_type": "code",
      "source": [
        "resultado_frequencia_1 = contador_frequencia(dataset,intervalo_corrigido)\n",
        "print(resultado_frequencia_1)"
      ],
      "metadata": {
        "colab": {
          "base_uri": "https://localhost:8080/"
        },
        "id": "CJjspyzRsFZ4",
        "outputId": "cce98b16-8306-4542-cdd2-c72795836f56"
      },
      "execution_count": null,
      "outputs": [
        {
          "output_type": "stream",
          "name": "stdout",
          "text": [
            "([[8, 30, 30], [54, 86, 94], [102, 110], [169, 170, 176], [236], [240, 241, 242, 255, 262, 276, 279, 282]], [3, 3, 2, 3, 1, 8])\n"
          ]
        }
      ]
    },
    {
      "cell_type": "markdown",
      "source": [
        "Retorno da função (intervalos e quantidade de numero de cada intervalo) quando o valor * NÂO * é arredondado"
      ],
      "metadata": {
        "id": "apK7rGWd2nbB"
      }
    },
    {
      "cell_type": "code",
      "source": [
        "resultado_frequencia_2 = contador_frequencia(dataset,tamanho_intervalo)\n",
        "print(resultado_frequencia_2)"
      ],
      "metadata": {
        "colab": {
          "base_uri": "https://localhost:8080/"
        },
        "id": "WqDG8EUcwsU4",
        "outputId": "050655c2-aa51-4a10-995f-c0da6d9439ac"
      },
      "execution_count": null,
      "outputs": [
        {
          "output_type": "stream",
          "name": "stdout",
          "text": [
            "([[8, 30, 30], [54, 86, 94], [102, 110], [169, 170, 176], [236], [240, 241, 242, 255, 262, 276, 279]], [3, 3, 2, 3, 1, 7])\n"
          ]
        }
      ]
    },
    {
      "cell_type": "markdown",
      "source": [
        "Criando 2 listas para o caso 1: valor arredondado\n",
        "1 contem apenas os valores do intervalo\n",
        "2 contem apenas a quantidade de elementos em cada intervalo"
      ],
      "metadata": {
        "id": "skPa4lBI22uu"
      }
    },
    {
      "cell_type": "code",
      "source": [
        "valores_intervalo_1 = resultado_frequencia_1[0]\n",
        "valores_frequencia_1 = resultado_frequencia_1[1]\n",
        "print(\"valores de cada intervalo = \", valores_intervalo_1)\n",
        "print(\"valores de frequencia = \", valores_frequencia_1)\n"
      ],
      "metadata": {
        "colab": {
          "base_uri": "https://localhost:8080/"
        },
        "id": "Mda1fohbx6xW",
        "outputId": "83d4ad31-9ada-4381-83e8-e9ea54dd9169"
      },
      "execution_count": null,
      "outputs": [
        {
          "output_type": "stream",
          "name": "stdout",
          "text": [
            "valores de cada intervalo =  [[8, 30, 30], [54, 86, 94], [102, 110], [169, 170, 176], [236], [240, 241, 242, 255, 262, 276, 279, 282]]\n",
            "valores de frequencia =  [3, 3, 2, 3, 1, 8]\n"
          ]
        }
      ]
    },
    {
      "cell_type": "markdown",
      "source": [
        "Criando 2 listas para o caso 2: valor NAO arredondado\n",
        "1 contem apenas os valores do intervalo\n",
        "2 contem apenas a quantidade de elementos em cada intervalo"
      ],
      "metadata": {
        "id": "0wGacnff3KUb"
      }
    },
    {
      "cell_type": "code",
      "source": [
        "valores_intervalo_2 = resultado_frequencia_2[0]\n",
        "valores_frequencia_2 = resultado_frequencia_2[1]\n",
        "print(\"valores de cada intervalo = \", valores_intervalo_2)\n",
        "print(\"valores de frequencia = \", valores_frequencia_2)"
      ],
      "metadata": {
        "colab": {
          "base_uri": "https://localhost:8080/"
        },
        "id": "slA2B5wwyiPG",
        "outputId": "df1e1c51-f428-48a2-b5bd-2c26763ec143"
      },
      "execution_count": null,
      "outputs": [
        {
          "output_type": "stream",
          "name": "stdout",
          "text": [
            "valores de cada intervalo =  [[8, 30, 30], [54, 86, 94], [102, 110], [169, 170, 176], [236], [240, 241, 242, 255, 262, 276, 279]]\n",
            "valores de frequencia =  [3, 3, 2, 3, 1, 7]\n"
          ]
        }
      ]
    },
    {
      "cell_type": "markdown",
      "source": [
        "**Abaixo o calculo das frequencias relativa para os 2 casos**"
      ],
      "metadata": {
        "id": "lyf-DLs93N44"
      }
    },
    {
      "cell_type": "markdown",
      "source": [
        "caso 1: onde o valor foi arredondado anteriormente"
      ],
      "metadata": {
        "id": "GtaB8yKx4ype"
      }
    },
    {
      "cell_type": "code",
      "source": [
        "total_1 = sum(valores_frequencia_1)\n",
        "print(total_1)\n",
        "\n",
        "freq_absoluta_1 = []\n",
        "for i in range(len(valores_frequencia_1)):\n",
        "    freq_absoluta_1.append(valores_frequencia_1[i]/total_1)\n",
        "\n",
        "print(freq_absoluta_1)"
      ],
      "metadata": {
        "colab": {
          "base_uri": "https://localhost:8080/"
        },
        "id": "tD9lnzmN2ufa",
        "outputId": "8444086d-d10b-4582-9523-682da5e8870e"
      },
      "execution_count": null,
      "outputs": [
        {
          "output_type": "stream",
          "name": "stdout",
          "text": [
            "20\n",
            "[0.15, 0.15, 0.1, 0.15, 0.05, 0.4]\n"
          ]
        }
      ]
    },
    {
      "cell_type": "markdown",
      "source": [
        "no caso 2, ao não arredondar , o ultimo intervalo ficou com 1 a menos, foi deixado como está para visualizar a diferença no fim"
      ],
      "metadata": {
        "id": "EwAq-mrB3kcv"
      }
    },
    {
      "cell_type": "code",
      "source": [
        "total_2 = sum(valores_frequencia_2)\n",
        "print(total_2)\n",
        "\n",
        "freq_absoluta_2 = []\n",
        "for i in range(len(valores_frequencia_2)):\n",
        "    freq_absoluta_2.append(valores_frequencia_2[i]/total_1)\n",
        "\n",
        "print(freq_absoluta_2)"
      ],
      "metadata": {
        "colab": {
          "base_uri": "https://localhost:8080/"
        },
        "id": "JZmTkWrb38dg",
        "outputId": "6a6b8ecd-41df-4523-b9d6-3d6b0e1a3b16"
      },
      "execution_count": null,
      "outputs": [
        {
          "output_type": "stream",
          "name": "stdout",
          "text": [
            "19\n",
            "[0.15, 0.15, 0.1, 0.15, 0.05, 0.35]\n"
          ]
        }
      ]
    },
    {
      "cell_type": "markdown",
      "source": [
        "utilizando apenas a biblioteca do matplot para gerar um histograma para comparar os valores obtidos anteriormente. Maneira mais rápida, porem apenas visual. (caso 1)"
      ],
      "metadata": {
        "id": "ZmtY9FkF3mRD"
      }
    },
    {
      "cell_type": "code",
      "source": [
        "\n",
        "plt.hist(dataset, bins= 6, rwidth=0.9)\n",
        "plt.xlabel('valores')\n",
        "plt.ylabel('Frequência')\n",
        "plt.title('Histograma de frequencia de valores em cada intervalo')\n",
        "plt.show()"
      ],
      "metadata": {
        "colab": {
          "base_uri": "https://localhost:8080/",
          "height": 472
        },
        "id": "DJmemsfw0w54",
        "outputId": "4d96a6cd-1931-42dd-912d-fc636f96578d"
      },
      "execution_count": null,
      "outputs": [
        {
          "output_type": "display_data",
          "data": {
            "text/plain": [
              "<Figure size 640x480 with 1 Axes>"
            ],
            "image/png": "[encoded data removed]"
          },
          "metadata": {}
        }
      ]
    },
    {
      "cell_type": "markdown",
      "source": [
        "# Criação de uma função e a chamada da mesma para criar a tabelça com os valores obtidos"
      ],
      "metadata": {
        "id": "rxDX6_u839wa"
      }
    },
    {
      "cell_type": "code",
      "source": [
        "def criartabela(tab_interval,tab_freq,tab_freqabs):\n",
        "    tabela03 = []\n",
        "    a = ['intervalos']\n",
        "    b = ['frequencia absoluta']\n",
        "    c = ['frequencia relativa']\n",
        "    a.extend(tab_interval)\n",
        "    b.extend(tab_freq)\n",
        "    c.extend(tab_freqabs)\n",
        "    tab_dados = [a,b,c]\n",
        "    print(tab_dados[1])\n",
        "    tabela03 = tabulate(tab_dados,tablefmt=\"heavy_grid\")\n",
        "    return tabela03\n",
        "\n",
        "tabela_110 = criartabela(valores_intervalo_1,valores_frequencia_1,freq_absoluta_1)\n",
        "print(tabela_110)"
      ],
      "metadata": {
        "colab": {
          "base_uri": "https://localhost:8080/"
        },
        "id": "KQiW_H7JIomY",
        "outputId": "56297276-b9e4-4b15-b499-cadaef8d0803"
      },
      "execution_count": null,
      "outputs": [
        {
          "output_type": "stream",
          "name": "stdout",
          "text": [
            "['frequencia absoluta', 3, 3, 2, 3, 1, 8]\n",
            "┏━━━━━━━━━━━━━━━━━━━━━┳━━━━━━━━━━━━━┳━━━━━━━━━━━━━━┳━━━━━━━━━━━━┳━━━━━━━━━━━━━━━━━┳━━━━━━━┳━━━━━━━━━━━━━━━━━━━━━━━━━━━━━━━━━━━━━━━━━━┓\n",
            "┃ intervalos          ┃ [8, 30, 30] ┃ [54, 86, 94] ┃ [102, 110] ┃ [169, 170, 176] ┃ [236] ┃ [240, 241, 242, 255, 262, 276, 279, 282] ┃\n",
            "┣━━━━━━━━━━━━━━━━━━━━━╋━━━━━━━━━━━━━╋━━━━━━━━━━━━━━╋━━━━━━━━━━━━╋━━━━━━━━━━━━━━━━━╋━━━━━━━╋━━━━━━━━━━━━━━━━━━━━━━━━━━━━━━━━━━━━━━━━━━┫\n",
            "┃ frequencia absoluta ┃ 3           ┃ 3            ┃ 2          ┃ 3               ┃ 1     ┃ 8                                        ┃\n",
            "┣━━━━━━━━━━━━━━━━━━━━━╋━━━━━━━━━━━━━╋━━━━━━━━━━━━━━╋━━━━━━━━━━━━╋━━━━━━━━━━━━━━━━━╋━━━━━━━╋━━━━━━━━━━━━━━━━━━━━━━━━━━━━━━━━━━━━━━━━━━┫\n",
            "┃ frequencia relativa ┃ 0.15        ┃ 0.15         ┃ 0.1        ┃ 0.15            ┃ 0.05  ┃ 0.4                                      ┃\n",
            "┗━━━━━━━━━━━━━━━━━━━━━┻━━━━━━━━━━━━━┻━━━━━━━━━━━━━━┻━━━━━━━━━━━━┻━━━━━━━━━━━━━━━━━┻━━━━━━━┻━━━━━━━━━━━━━━━━━━━━━━━━━━━━━━━━━━━━━━━━━━┛\n"
          ]
        }
      ]
    },
    {
      "cell_type": "markdown",
      "source": [
        "# Tabela do caso 2, onde não foi arredondado"
      ],
      "metadata": {
        "id": "HCW5jBh34Eyr"
      }
    },
    {
      "cell_type": "code",
      "source": [
        "tabela_2 = criartabela(valores_intervalo_2,valores_frequencia_2,freq_absoluta_2)\n",
        "print(tabela_2)"
      ],
      "metadata": {
        "colab": {
          "base_uri": "https://localhost:8080/"
        },
        "id": "Mksh-bbmNILP",
        "outputId": "d29548a0-fa64-4bd7-831b-37d175b6b4f3"
      },
      "execution_count": null,
      "outputs": [
        {
          "output_type": "stream",
          "name": "stdout",
          "text": [
            "['frequencia absoluta', 3, 3, 2, 3, 1, 7]\n",
            "┏━━━━━━━━━━━━━━━━━━━━━┳━━━━━━━━━━━━━┳━━━━━━━━━━━━━━┳━━━━━━━━━━━━┳━━━━━━━━━━━━━━━━━┳━━━━━━━┳━━━━━━━━━━━━━━━━━━━━━━━━━━━━━━━━━━━━━┓\n",
            "┃ intervalos          ┃ [8, 30, 30] ┃ [54, 86, 94] ┃ [102, 110] ┃ [169, 170, 176] ┃ [236] ┃ [240, 241, 242, 255, 262, 276, 279] ┃\n",
            "┣━━━━━━━━━━━━━━━━━━━━━╋━━━━━━━━━━━━━╋━━━━━━━━━━━━━━╋━━━━━━━━━━━━╋━━━━━━━━━━━━━━━━━╋━━━━━━━╋━━━━━━━━━━━━━━━━━━━━━━━━━━━━━━━━━━━━━┫\n",
            "┃ frequencia absoluta ┃ 3           ┃ 3            ┃ 2          ┃ 3               ┃ 1     ┃ 7                                   ┃\n",
            "┣━━━━━━━━━━━━━━━━━━━━━╋━━━━━━━━━━━━━╋━━━━━━━━━━━━━━╋━━━━━━━━━━━━╋━━━━━━━━━━━━━━━━━╋━━━━━━━╋━━━━━━━━━━━━━━━━━━━━━━━━━━━━━━━━━━━━━┫\n",
            "┃ frequencia relativa ┃ 0.15        ┃ 0.15         ┃ 0.1        ┃ 0.15            ┃ 0.05  ┃ 0.35                                ┃\n",
            "┗━━━━━━━━━━━━━━━━━━━━━┻━━━━━━━━━━━━━┻━━━━━━━━━━━━━━┻━━━━━━━━━━━━┻━━━━━━━━━━━━━━━━━┻━━━━━━━┻━━━━━━━━━━━━━━━━━━━━━━━━━━━━━━━━━━━━━┛\n"
          ]
        }
      ]
    }
  ]
}